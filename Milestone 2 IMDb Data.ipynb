{
 "cells": [
  {
   "cell_type": "code",
   "execution_count": 1,
   "metadata": {
    "collapsed": true
   },
   "outputs": [],
   "source": [
    "import imdb\n",
    "import numpy as np\n",
    "import pandas as pd\n",
    "import json\n",
    "from bs4 import BeautifulSoup\n",
    "import requests\n",
    "import urllib2\n",
    "from sklearn.linear_model import LinearRegression as Lin_Reg\n",
    "from statsmodels.regression.linear_model import OLS\n",
    "import statsmodels.api as sm\n",
    "import sklearn.preprocessing as Preprocessing\n",
    "import itertools as it\n",
    "import math\n",
    "import matplotlib\n",
    "import matplotlib.pyplot as plt\n",
    "import matplotlib.colors as colors\n",
    "import scipy as sp\n",
    "from itertools import combinations\n",
    "import unicodedata\n",
    "import subprocess\n",
    "import time\n",
    "from collections import namedtuple\n",
    "%matplotlib inline"
   ]
  },
  {
   "cell_type": "code",
   "execution_count": 33,
   "metadata": {
    "collapsed": true
   },
   "outputs": [],
   "source": [
    "ia = imdb.IMDb()"
   ]
  },
  {
   "cell_type": "code",
   "execution_count": 61,
   "metadata": {
    "collapsed": false
   },
   "outputs": [
    {
     "data": {
      "text/plain": [
       "[u\"Thomas A. Anderson is a man living two lives. By day he is an average computer programmer and by night a hacker known as Neo. Neo has always questioned his reality, but the truth is far beyond his imagination. Neo finds himself targeted by the police when he is contacted by Morpheus, a legendary computer hacker branded a terrorist by the government. Morpheus awakens Neo to the real world, a ravaged wasteland where most of humanity have been captured by a race of machines that live off of the humans' body heat and electrochemical energy and who imprison their minds within an artificial reality known as the Matrix. As a rebel against the machines, Neo must return to the Matrix and confront the agents: super-powerful computer programs devoted to snuffing out Neo and the entire human rebellion.\",\n",
       " u'Thomas A. Anderson is a man leading a double life. By day, he is an average computer programmer who pays his taxes and helps his landlady take out the garbage. At night, he is a computer hacker by the name of Neo. He finds himself targeted by police when he is contacted by the legendary hacker Morpheus. Neo wakes up in the real world, a ravaged wasteland. He finds out that most human beings are not born, but are created by machines so that they can harvest their bioelectric and heat energy and fulfill their electricity needs. The minds of such people are imprisoned in an artificial reality known as the Matrix. Now a rebel, Neo learns about his role in the reality and must confront the agents, programs which all rebels fear, who plan on destroying the rebels and destroying the entire human existence.',\n",
       " u'A programmer is brought back to reason and reality when learning he was living in a program created by gigantic machines which make human birth artificial. In order to set humanity free, Neo will have to face many enemies by using technologies and self-trust.',\n",
       " u\"During the year 1999, a man named Thomas Anderson (also known as Neo), lives an ordinary life. A software techie by day and a computer hacker by night, he sits alone at home by his monitor, waiting for a sign, a signal - from what or whom he doesn't know - until one night, a mysterious woman named Trinity seeks him out and introduces him to that faceless character he has been waiting for: Morpheus. A messiah of sorts, Morpheus presents Neo with the truth about his world by shedding light on the dark secrets that have troubled him for so long.\",\n",
       " u'In the near future, a computer hacker named Neo discovers that all life on Earth may be nothing more than an elaborate facade created by a malevolent cyber-intelligence, for the purpose of placating us while our life essence is \"farmed\" to fuel the Matrix\\'s campaign of domination in the \"real\" world. He joins like-minded Rebel warriors Morpheus and Trinity in their struggle to overthrow the Matrix.',\n",
       " u'A computer hacker learns from mysterious rebels about the true nature of his reality and his role in the war against its controllers.']"
      ]
     },
     "execution_count": 61,
     "metadata": {},
     "output_type": "execute_result"
    }
   ],
   "source": [
    "the_matrix = ia.get_movie('0133093')\n",
    "the_matrix['plot']"
   ]
  },
  {
   "cell_type": "code",
   "execution_count": 51,
   "metadata": {
    "collapsed": false
   },
   "outputs": [],
   "source": [
    "plot_exists = 'the_matrix[\"plot\"]' in locals() or 'the_matrix[\"plot\"]' in globals()"
   ]
  },
  {
   "cell_type": "code",
   "execution_count": 62,
   "metadata": {
    "collapsed": false
   },
   "outputs": [
    {
     "name": "stdout",
     "output_type": "stream",
     "text": [
      "Oops\n"
     ]
    }
   ],
   "source": [
    "try:\n",
    "    the_matrix['plot']\n",
    "except KeyError:\n",
    "    print \"Yay\"\n",
    "else:\n",
    "    print \"Oops\""
   ]
  },
  {
   "cell_type": "code",
   "execution_count": 5,
   "metadata": {
    "collapsed": false
   },
   "outputs": [],
   "source": [
    "movie_df = pd.read_csv('movie_df.csv')"
   ]
  },
  {
   "cell_type": "code",
   "execution_count": 7,
   "metadata": {
    "collapsed": true
   },
   "outputs": [],
   "source": [
    "imdb_id_df = pd.read_csv('IMDb IDs.csv')"
   ]
  },
  {
   "cell_type": "code",
   "execution_count": 79,
   "metadata": {
    "collapsed": false
   },
   "outputs": [
    {
     "data": {
      "text/plain": [
       "True"
      ]
     },
     "execution_count": 79,
     "metadata": {},
     "output_type": "execute_result"
    }
   ],
   "source": [
    "(str(imdb_id_df.loc[138, 'id']) == '') or (math.isnan(imdb_id_df.loc[138, 'id']))"
   ]
  },
  {
   "cell_type": "code",
   "execution_count": 69,
   "metadata": {
    "collapsed": false
   },
   "outputs": [
    {
     "data": {
      "text/plain": [
       "0"
      ]
     },
     "execution_count": 69,
     "metadata": {},
     "output_type": "execute_result"
    }
   ],
   "source": [
    "movie_titles = []\n",
    "directors = []\n",
    "casts = []\n",
    "writers = []\n",
    "plots = []\n",
    "imdb_ratings = []\n",
    "imdb_votes = []\n",
    "runtimes = []\n",
    "\n",
    "len(movie_titles)"
   ]
  },
  {
   "cell_type": "code",
   "execution_count": 95,
   "metadata": {
    "collapsed": false
   },
   "outputs": [],
   "source": [
    "for movie_num in range(len(movie_titles), len(imdb_id_df)):\n",
    "    time.sleep(0.25)\n",
    "    if ((str(imdb_id_df.loc[movie_num, 'id']) == '') or (math.isnan(imdb_id_df.loc[movie_num, 'id']))):\n",
    "        movie_titles.append('')\n",
    "        directors.append('')\n",
    "        casts.append('')\n",
    "        writers.append('')\n",
    "        plots.append('')\n",
    "        imdb_ratings.append('')\n",
    "        imdb_votes.append('')\n",
    "        runtimes.append('')\n",
    "    else:\n",
    "        movie = ia.get_movie(str(int(imdb_id_df.loc[movie_num, 'id'])))\n",
    "        try:\n",
    "            movie['title']\n",
    "        except KeyError:\n",
    "            movie_titles.append('')\n",
    "        else:\n",
    "            movie_titles.append(movie['title'])\n",
    "        try:\n",
    "            movie['director']\n",
    "        except KeyError:\n",
    "            directors.append('')\n",
    "        else:\n",
    "            directors.append(movie['director'])\n",
    "        try:\n",
    "            movie['cast']\n",
    "        except KeyError:\n",
    "            casts.append('')\n",
    "        else:\n",
    "            casts.append(movie['cast'])\n",
    "        try:\n",
    "            movie['plot']\n",
    "        except KeyError:\n",
    "            writers.append('')\n",
    "        else:\n",
    "            writers.append(movie['plot'])\n",
    "        try:\n",
    "            movie['plot']\n",
    "        except KeyError:\n",
    "            plots.append('')\n",
    "        else:\n",
    "            plots.append(movie['plot'])\n",
    "        try:\n",
    "            movie['rating']\n",
    "        except KeyError:\n",
    "            imdb_ratings.append('')\n",
    "        else:\n",
    "            imdb_ratings.append(movie['rating'])\n",
    "        try:\n",
    "            movie['votes']\n",
    "        except KeyError:\n",
    "            imdb_votes.append('')\n",
    "        else:\n",
    "            imdb_votes.append(movie['votes'])\n",
    "        try:\n",
    "            movie['runtimes']\n",
    "        except KeyError:\n",
    "            runtimes.append('')\n",
    "        else:\n",
    "            runtimes.append(movie['runtimes'])"
   ]
  },
  {
   "cell_type": "code",
   "execution_count": 96,
   "metadata": {
    "collapsed": false
   },
   "outputs": [
    {
     "data": {
      "text/plain": [
       "12000"
      ]
     },
     "execution_count": 96,
     "metadata": {},
     "output_type": "execute_result"
    }
   ],
   "source": [
    "len(runtimes)"
   ]
  },
  {
   "cell_type": "code",
   "execution_count": 98,
   "metadata": {
    "collapsed": false
   },
   "outputs": [
    {
     "data": {
      "text/plain": [
       "<Person id:0006969[http] name:_Banks, Elizabeth_>"
      ]
     },
     "execution_count": 98,
     "metadata": {},
     "output_type": "execute_result"
    }
   ],
   "source": [
    "directors[11234][0]"
   ]
  },
  {
   "cell_type": "code",
   "execution_count": 99,
   "metadata": {
    "collapsed": false
   },
   "outputs": [],
   "source": [
    "directors_update = []\n",
    "\n",
    "for i in range(len(directors)):\n",
    "    try:\n",
    "        directors[i][0]\n",
    "    except IndexError:\n",
    "        directors_update.append('')\n",
    "    else:\n",
    "        directors_update.append(str(directors[i][0]))"
   ]
  },
  {
   "cell_type": "code",
   "execution_count": 104,
   "metadata": {
    "collapsed": false
   },
   "outputs": [],
   "source": [
    "casts_update = []\n",
    "\n",
    "for i in range(len(casts)):\n",
    "    movie_cast = []\n",
    "    try:\n",
    "        casts[i]\n",
    "    except IndexError:\n",
    "        casts_update.append('')\n",
    "    else:\n",
    "        for j in range(min(len(casts[i]), 5)):\n",
    "            movie_cast.append(str(casts[i][j]))\n",
    "        casts_update.append(movie_cast)"
   ]
  },
  {
   "cell_type": "code",
   "execution_count": 106,
   "metadata": {
    "collapsed": false
   },
   "outputs": [
    {
     "ename": "UnicodeEncodeError",
     "evalue": "'ascii' codec can't encode character u'\\xe9' in position 40: ordinal not in range(128)",
     "output_type": "error",
     "traceback": [
      "\u001b[0;31m---------------------------------------------------------------------------\u001b[0m",
      "\u001b[0;31mUnicodeEncodeError\u001b[0m                        Traceback (most recent call last)",
      "\u001b[0;32m<ipython-input-106-61084c7259b2>\u001b[0m in \u001b[0;36m<module>\u001b[0;34m()\u001b[0m\n\u001b[1;32m      9\u001b[0m     \u001b[0;32melse\u001b[0m\u001b[0;34m:\u001b[0m\u001b[0;34m\u001b[0m\u001b[0m\n\u001b[1;32m     10\u001b[0m         \u001b[0;32mfor\u001b[0m \u001b[0mj\u001b[0m \u001b[0;32min\u001b[0m \u001b[0mrange\u001b[0m\u001b[0;34m(\u001b[0m\u001b[0mmin\u001b[0m\u001b[0;34m(\u001b[0m\u001b[0mlen\u001b[0m\u001b[0;34m(\u001b[0m\u001b[0mwriters\u001b[0m\u001b[0;34m[\u001b[0m\u001b[0mi\u001b[0m\u001b[0;34m]\u001b[0m\u001b[0;34m)\u001b[0m\u001b[0;34m,\u001b[0m \u001b[0;36m5\u001b[0m\u001b[0;34m)\u001b[0m\u001b[0;34m)\u001b[0m\u001b[0;34m:\u001b[0m\u001b[0;34m\u001b[0m\u001b[0m\n\u001b[0;32m---> 11\u001b[0;31m             \u001b[0mmovie_writer\u001b[0m\u001b[0;34m.\u001b[0m\u001b[0mappend\u001b[0m\u001b[0;34m(\u001b[0m\u001b[0mstr\u001b[0m\u001b[0;34m(\u001b[0m\u001b[0mwriters\u001b[0m\u001b[0;34m[\u001b[0m\u001b[0mi\u001b[0m\u001b[0;34m]\u001b[0m\u001b[0;34m[\u001b[0m\u001b[0mj\u001b[0m\u001b[0;34m]\u001b[0m\u001b[0;34m)\u001b[0m\u001b[0;34m)\u001b[0m\u001b[0;34m\u001b[0m\u001b[0m\n\u001b[0m\u001b[1;32m     12\u001b[0m         \u001b[0mwriters_update\u001b[0m\u001b[0;34m.\u001b[0m\u001b[0mappend\u001b[0m\u001b[0;34m(\u001b[0m\u001b[0mmovie_writer\u001b[0m\u001b[0;34m)\u001b[0m\u001b[0;34m\u001b[0m\u001b[0m\n",
      "\u001b[0;31mUnicodeEncodeError\u001b[0m: 'ascii' codec can't encode character u'\\xe9' in position 40: ordinal not in range(128)"
     ]
    }
   ],
   "source": [
    "writers_update = []\n",
    "\n",
    "for i in range(len(writers)):\n",
    "    movie_writer = []\n",
    "    try:\n",
    "        writers[i]\n",
    "    except IndexError:\n",
    "        writers_update.append('')\n",
    "    else:\n",
    "        for j in range(min(len(writers[i]), 5)):\n",
    "            movie_writer.append(str(writers[i][j]))\n",
    "        writers_update.append(movie_writer)"
   ]
  },
  {
   "cell_type": "code",
   "execution_count": 107,
   "metadata": {
    "collapsed": false
   },
   "outputs": [
    {
     "ename": "UnicodeEncodeError",
     "evalue": "'ascii' codec can't encode character u'\\xe9' in position 27: ordinal not in range(128)",
     "output_type": "error",
     "traceback": [
      "\u001b[0;31m---------------------------------------------------------------------------\u001b[0m",
      "\u001b[0;31mUnicodeEncodeError\u001b[0m                        Traceback (most recent call last)",
      "\u001b[0;32m<ipython-input-107-c5ac2b01d1fb>\u001b[0m in \u001b[0;36m<module>\u001b[0;34m()\u001b[0m\n\u001b[1;32m      7\u001b[0m         \u001b[0mruntimes_update\u001b[0m\u001b[0;34m.\u001b[0m\u001b[0mappend\u001b[0m\u001b[0;34m(\u001b[0m\u001b[0;34m''\u001b[0m\u001b[0;34m)\u001b[0m\u001b[0;34m\u001b[0m\u001b[0m\n\u001b[1;32m      8\u001b[0m     \u001b[0;32melse\u001b[0m\u001b[0;34m:\u001b[0m\u001b[0;34m\u001b[0m\u001b[0m\n\u001b[0;32m----> 9\u001b[0;31m         \u001b[0mruntimes_update\u001b[0m\u001b[0;34m.\u001b[0m\u001b[0mappend\u001b[0m\u001b[0;34m(\u001b[0m\u001b[0mstr\u001b[0m\u001b[0;34m(\u001b[0m\u001b[0mruntimes\u001b[0m\u001b[0;34m[\u001b[0m\u001b[0mi\u001b[0m\u001b[0;34m]\u001b[0m\u001b[0;34m[\u001b[0m\u001b[0;36m0\u001b[0m\u001b[0;34m]\u001b[0m\u001b[0;34m)\u001b[0m\u001b[0;34m)\u001b[0m\u001b[0;34m\u001b[0m\u001b[0m\n\u001b[0m",
      "\u001b[0;31mUnicodeEncodeError\u001b[0m: 'ascii' codec can't encode character u'\\xe9' in position 27: ordinal not in range(128)"
     ]
    }
   ],
   "source": [
    "runtimes_update = []\n",
    "\n",
    "for i in range(len(directors)):\n",
    "    try:\n",
    "        runtimes[i][0]\n",
    "    except IndexError:\n",
    "        runtimes_update.append('')\n",
    "    else:\n",
    "        runtimes_update.append(str(runtimes[i][0]))"
   ]
  },
  {
   "cell_type": "code",
   "execution_count": 109,
   "metadata": {
    "collapsed": false
   },
   "outputs": [],
   "source": [
    "final_df = pd.DataFrame(data = {'tmdb_id':movie_df['id'], \n",
    "                                  'orig_lang':movie_df['orig_lang'],\n",
    "                                  'tmdb_overview':movie_df['overview'], \n",
    "                                  'tmdb_popularity':movie_df['popularity'],\n",
    "                                  'release_date':movie_df['release_date'], \n",
    "                                  'title':movie_df['title'],\n",
    "                                  'tmdb_vote_average':movie_df['vote_average'], \n",
    "                                  'tmdb_vote_count':movie_df['vote_count'],\n",
    "                                  'director':directors_update,\n",
    "                                  'cast':casts_update,\n",
    "                                  'writer':writers,\n",
    "                                  'imdb_plot':plots,\n",
    "                                  'imdb_rating':imdb_ratings,\n",
    "                                  'imdb_votes':imdb_votes,\n",
    "                                  'runtime':runtimes,\n",
    "                         })"
   ]
  },
  {
   "cell_type": "code",
   "execution_count": 117,
   "metadata": {
    "collapsed": false
   },
   "outputs": [],
   "source": [
    "final_df.to_csv('Metadata.csv', index = False)"
   ]
  },
  {
   "cell_type": "markdown",
   "metadata": {},
   "source": [
    "## Features for our Model ##\n",
    "\n",
    "We have combined both TMDb data and IMDb data for this part of the dataset. From TMDb, we are getting more of the basic info, as well as their website ratings for each movie. From IMDb, we get more of the movie metadata. What we think will be most predictive is looking at directors and the casts of movies. Our thinking is that certain actors and directors usually are associated with a certain type of movie. We also collect the IMDb plot information as hopefully that will also provide us insight into what genre the movie is, through a bag of words analysis. We also collected other information about the movie, like run time and release date."
   ]
  },
  {
   "cell_type": "code",
   "execution_count": null,
   "metadata": {
    "collapsed": true
   },
   "outputs": [],
   "source": []
  }
 ],
 "metadata": {
  "kernelspec": {
   "display_name": "Python 2",
   "language": "python",
   "name": "python2"
  },
  "language_info": {
   "codemirror_mode": {
    "name": "ipython",
    "version": 2
   },
   "file_extension": ".py",
   "mimetype": "text/x-python",
   "name": "python",
   "nbconvert_exporter": "python",
   "pygments_lexer": "ipython2",
   "version": "2.7.11"
  }
 },
 "nbformat": 4,
 "nbformat_minor": 0
}
