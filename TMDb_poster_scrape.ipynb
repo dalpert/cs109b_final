{
 "cells": [
  {
   "cell_type": "code",
   "execution_count": 1,
   "metadata": {
    "collapsed": true
   },
   "outputs": [],
   "source": [
    "# import libraries\n",
    "import numpy as np\n",
    "import pandas as pd\n",
    "import json\n",
    "from bs4 import BeautifulSoup\n",
    "import requests\n",
    "import urllib2\n",
    "from sklearn.linear_model import LinearRegression as Lin_Reg\n",
    "from statsmodels.regression.linear_model import OLS\n",
    "import statsmodels.api as sm\n",
    "import sklearn.preprocessing as Preprocessing\n",
    "import itertools as it\n",
    "import math\n",
    "import matplotlib\n",
    "import matplotlib.pyplot as plt\n",
    "import matplotlib.colors as colors\n",
    "import scipy as sp\n",
    "from itertools import combinations\n",
    "import unicodedata\n",
    "import subprocess\n",
    "import time\n",
    "from collections import namedtuple\n",
    "from PIL import Image\n",
    "import PIL\n",
    "%matplotlib inline"
   ]
  },
  {
   "cell_type": "code",
   "execution_count": 2,
   "metadata": {
    "collapsed": true
   },
   "outputs": [],
   "source": [
    "df = pd.read_csv('movie_df.csv')"
   ]
  },
  {
   "cell_type": "code",
   "execution_count": null,
   "metadata": {
    "collapsed": true
   },
   "outputs": [],
   "source": [
    "w=750\n",
    "# Matrix: 12000 x 375001\n",
    "matrix = np.zeros((df.shape[0],im.size[0]*w+1))\n",
    "#matrix = np.zeros((20,im.size[0]*w+1))\n",
    "\n",
    "for k, path in enumerate(df['poster_path']):\n",
    "    #time.sleep(1)\n",
    "    # Construct URL\n",
    "    if (path is not None):\n",
    "        img_url_head = 'https://image.tmdb.org/t/p/w500'\n",
    "        #img_url_tail = df['poster_path'][0]\n",
    "        img_url = img_url_head + path\n",
    "\n",
    "        # Load img from URL\n",
    "        im = Image.open(urllib2.urlopen(img_url))\n",
    "\n",
    "        # Convert to grayscale\n",
    "        im = im.convert('L')\n",
    "        pix = im.load()\n",
    "\n",
    "        # Dimensions\n",
    "        print(im.size)\n",
    "\n",
    "        # Create array to store pixel\n",
    "        pix_array = np.empty(im.size[0]*w+1)\n",
    "\n",
    "        for i in range(0,im.size[0]):\n",
    "            for j in range(0,w):\n",
    "                try:\n",
    "                    matrix[k, (i*750 + j)] = pix[i,j]\n",
    "                except IndexError:\n",
    "                    matrix[k, (i*750 + j)] = 0\n",
    "        matrix[k, 375000] = df['id'][k]"
   ]
  }
 ],
 "metadata": {
  "anaconda-cloud": {},
  "kernelspec": {
   "display_name": "Python [Root]",
   "language": "python",
   "name": "Python [Root]"
  },
  "language_info": {
   "codemirror_mode": {
    "name": "ipython",
    "version": 2
   },
   "file_extension": ".py",
   "mimetype": "text/x-python",
   "name": "python",
   "nbconvert_exporter": "python",
   "pygments_lexer": "ipython2",
   "version": "2.7.12"
  }
 },
 "nbformat": 4,
 "nbformat_minor": 0
}
